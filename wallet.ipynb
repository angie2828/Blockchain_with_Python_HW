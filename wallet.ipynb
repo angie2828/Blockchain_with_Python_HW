{
 "cells": [
  {
   "cell_type": "code",
   "execution_count": 3,
   "id": "11de52d1-ddd0-40a6-8b5e-750e1418c89c",
   "metadata": {},
   "outputs": [],
   "source": [
    "# !pip install web3==5.17"
   ]
  },
  {
   "cell_type": "code",
   "execution_count": 11,
   "id": "5743b438-e825-4779-9cfe-e7d28e3a6ece",
   "metadata": {},
   "outputs": [
    {
     "name": "stdout",
     "output_type": "stream",
     "text": [
      "php ./hd-wallet-derive/hd-wallet-derive.php -g --mnemonic=\"toppl evolve spin party junk indicate exotic autumn federal donkey pact essence\" --coin=eth --numderive=3 --format=json\n",
      "php ./hd-wallet-derive/hd-wallet-derive.php -g --mnemonic=\"toppl evolve spin party junk indicate exotic autumn federal donkey pact essence\" --coin=btc-test --numderive=3 --format=json\n"
     ]
    }
   ],
   "source": [
    "import subprocess\n",
    "import json\n",
    "import os\n",
    "\n",
    "from constants import BTC, BTCTEST, ETH\n",
    "from pprint import pprint\n",
    "\n",
    "from bit import PrivateKeyTestnet\n",
    "from bit.network import NetworkAPI\n",
    "\n",
    "from web3 import Web3, middleware, Account\n",
    "from web3.gas_strategies.time_based import medium_gas_price_strategy\n",
    "from web3.middleware import geth_poa_middleware\n",
    "\n",
    "# connect Web3\n",
    "w3 = Web3(Web3.HTTPProvider(os.getenv('WEB3_PROVIDER', 'http://127.0.0.1:7545')))\n",
    "# enable PoA middleware\n",
    "# w3.middleware_stack.inject(geth_poa_middleware, layer=0)\n",
    "w3.middleware_onion.inject(geth_poa_middleware, layer=0)\n",
    "\n",
    "# set gas price strategy to built-in \"medium\" algorithm (est ~5min per tx)\n",
    "# see https://web3py.readthedocs.io/en/stable/gas_price.html?highlight=gas\n",
    "# see https://ethgasstation.info/ API for a more accurate strategy\n",
    "w3.eth.setGasPriceStrategy(medium_gas_price_strategy)\n",
    "\n",
    "# including a mnemonic with prefunded test tokens for testing\n",
    "mnemonic = os.getenv(\"MNEMONIC\", \"topple evolve spin party junk indicate exotic autumn federal donkey pact essence\")\n",
    "def derive_wallets(coin=BTC, mnemonic=mnemonic, depth=3):\n",
    "    command = f'php ./hd-wallet-derive/hd-wallet-derive.php -g --mnemonic=\"{mnemonic}\" --coin={coin} --numderive={depth} --format=json'\n",
    "    print(command)\n",
    "    p = subprocess.Popen(command, stdout=subprocess.PIPE, shell=True)\n",
    "    (output, err) = p.communicate()\n",
    "    p_status = p.wait()\n",
    "    return json.loads(output)\n",
    "\n",
    "def priv_key_to_account(coin, priv_key):\n",
    "    if coin == ETH:\n",
    "        return Account.privateKeyToAccount(priv_key)\n",
    "    if coin == BTCTEST:\n",
    "        return PrivateKeyTestnet(priv_key)\n",
    "\n",
    "def create_tx(coin, account, to, amount):\n",
    "    if coin == ETH:\n",
    "        value = w3.toWei(amount, \"ether\") # convert 1.2 ETH to 120000000000 wei\n",
    "        gasEstimate = w3.eth.estimateGas({ \"to\": to, \"from\": account.address, \"amount\": value })\n",
    "        return {\n",
    "            \"to\": to,\n",
    "            \"from\": account.address,\n",
    "            \"value\": value,\n",
    "            \"gas\": gasEstimate,\n",
    "            \"gasPrice\": w3.eth.generateGasPrice(),\n",
    "            \"nonce\": w3.eth.getTransactionCount(account.address),\n",
    "            \"chainId\": w3.eth.chainId\n",
    "        }\n",
    "    if coin == BTCTEST:\n",
    "        return PrivateKeyTestnet.prepare_transaction(account.address, [(to, amount, BTC)])\n",
    "\n",
    "def send_tx(coin, account, to, amount):\n",
    "    if coin == ETH:\n",
    "        raw_tx = create_tx(coin, account, to, amount)\n",
    "        signed = account.signTransaction(raw_tx)\n",
    "        return w3.eth.sendRawTransaction(signed.rawTransaction)\n",
    "    if coin == BTCTEST:\n",
    "        raw_tx = create_tx(coin, account, to, amount)\n",
    "        signed = account.sign_transaction(raw_tx)\n",
    "        return NetworkAPI.broadcast_tx_testnet(signed)\n",
    "\n",
    "coins = {\n",
    "    ETH: derive_wallets(coin=ETH),\n",
    "    BTCTEST: derive_wallets(coin=BTCTEST),\n",
    "}"
   ]
  },
  {
   "cell_type": "code",
   "execution_count": 12,
   "id": "680d83cd-b723-4776-a580-d8e6210cee17",
   "metadata": {},
   "outputs": [
    {
     "data": {
      "text/plain": [
       "{'eth': [{'path': \"m/44'/60'/0'/0/0\",\n",
       "   'address': '0x3e47c6C5d0ab33f75423ef07476Ef14b2d0B0825',\n",
       "   'xprv': 'xprvA3fzH1zGNFLuZMDfBMdVQN5ywPnKvgkvQweQNV18ugeimVVscE1YK48Bb55PPZ8vLthuELMLsFEjb7RHKWqp1cNhibg6FD3ZddjXJTYJMvG',\n",
       "   'xpub': 'xpub6GfLgXXACcuCmqJ8HPAVmW2iVRcpL9UmnAa1AsQkU2BheHq29mKnrrSfSMsDnHGjNnWrF2XMaGzwmZ3HkZciyxEXLCB15THYmoTigFmpLke',\n",
       "   'privkey': '0xfd9aa435d0aa51ae9ffd5c95ce88f51bfb1eedb80aa1606292c3b2c04aea1ac3',\n",
       "   'pubkey': '03e55cb7811b20c55a3bc834204d947e3f3865eda19f020dc9093ce87b1415f718',\n",
       "   'pubkeyhash': '7d7f9d9877b04cac665a8ba19e7f2043d6d65b82',\n",
       "   'index': 0},\n",
       "  {'path': \"m/44'/60'/0'/0/1\",\n",
       "   'address': '0x14F977365DbE166A71B05FF87906B4a463869B6a',\n",
       "   'xprv': 'xprvA3fzH1zGNFLub5L5yaysU6uaZr2CacqBHpmPBACc7rL4yEi2fwX8fgFBbFKCm7iTwRwyNqQnmVZiG7vqtyN8364ALr9PhsPFJ8napwWVH74',\n",
       "   'xpub': 'xpub6GfLgXXACcuCoZQZ5cWsqErK7srgz5Z2f3gyyYcDgBs3r33BDUqPDUZfSXtZrF6u5s9adBbSJhbShivahW6JsGAKCQpL4eFPeDtbXNgjYf6',\n",
       "   'privkey': '0xc7e3e7fdb1471a699721800136c3530dd7c9a88a3ec9deb5c2c11da1855d0633',\n",
       "   'pubkey': '039354fe43084df76d6ed5b6debb0ada444f6383f9249c4badba2c9c0c0a1838ad',\n",
       "   'pubkeyhash': '5840554ff07f132fd028fbe270425f5593508d8a',\n",
       "   'index': 1},\n",
       "  {'path': \"m/44'/60'/0'/0/2\",\n",
       "   'address': '0x895BC7f1336C6c19C8d7577f7e14CdB3Bdf692C2',\n",
       "   'xprv': 'xprvA3fzH1zGNFLueWghXSBH9kGVnHfTH8JfSkLCZrYHDcBtCfhS3TXPuViPoFGDNu3xXJfTzRfLDMiPE995vHckvxG3BvUwweqfEsGc7Yb9o8J',\n",
       "   'xpub': 'xpub6GfLgXXACcuCrzmAdTiHWtDELKVwgb2WoyFoNEwtmwis5U2aazqeTJ2seYMKV3fb3qScYx4q6xRyCgcKMcGhTRdzEY7uQyppKG3s5SuUDY9',\n",
       "   'privkey': '0x5802feeea8b513a187b653069ce0439b68d1a6886cd562d80fdf1718aab2d99c',\n",
       "   'pubkey': '0366fc4ed4def11e827a9852013b457cd6b18e88443d06da6557da3d38e41d87a8',\n",
       "   'pubkeyhash': 'cce9e3720621706e47af2adfe10eaad0d5f7f180',\n",
       "   'index': 2}],\n",
       " 'btc-test': [{'path': \"m/44'/1'/0'/0/0\",\n",
       "   'address': 'mrFiFfgtgtRuwtohKxAdwF7HEPVqjQwnnq',\n",
       "   'xprv': 'tprv8kcwBo7UZt3XHK9U2g4KV68DHcFpdA8VTXyj7WPDUgVjtBSwnqmh2BY3e4cTzAQC71pRjgK64zhAxzaT9mBvX8oXddNkP4yXgDR7SEbu8Mv',\n",
       "   'xpub': 'tpubDHJyLD9iiFjCAnBFvKiutVnKrdmknVKQ2qaWQ2RWtxJ8ifhiREbHCg9upBzHv5C5uAoT6K6xNGcGYVFToESoUFsT1gDECSd5q7xqy4bNgbE',\n",
       "   'privkey': 'cNwnMuUon2Ak4QcPxTR1JNQQMV6x8dLDMiSNWPqJbyMBaWc8F2vE',\n",
       "   'pubkey': '02614a44023cb678eb9d35ff8ccbfe80581bb16d6f6a3d876cd66d8cbdc45032fa',\n",
       "   'pubkeyhash': '75c76c597dd76a56633a68ee2c82e20fe3d1d955',\n",
       "   'index': 0},\n",
       "  {'path': \"m/44'/1'/0'/0/1\",\n",
       "   'address': 'mhrcgVgzUsh8psmrnFsHabdov74BAV7s86',\n",
       "   'xprv': 'tprv8kcwBo7UZt3XKRJCs8WtcQRWUetrSFJJbYEjgYLSEwiKPpoRzLateJQ5ZiH2dHV97bn7zWnm4ev9NFLBEPw1Pd4ohsiAxfHhGkUjz4euQM5',\n",
       "   'xpub': 'tpubDHJyLD9iiFjCCtKzknBV1p5d3gQnbaVDAqqWy4NjfDWiEK4CcjQUpo1wjq2raLjbqNavd3nXacu84hhz1zL8wb9Vke4Xx11xNRfd8RrjtLr',\n",
       "   'privkey': 'cQ6HmaAQa9JDiuhV2G8RWEFy5XZ3qPK5C2qrFy4KtfXXUK2Bgn5R',\n",
       "   'pubkey': '0231c320066bada0c22efa9fd8f934f0e5ce217eca0cb26cfd6f5794f193471749',\n",
       "   'pubkeyhash': '19a832d967ac06905ed86a06992abfa35a806c1a',\n",
       "   'index': 1},\n",
       "  {'path': \"m/44'/1'/0'/0/2\",\n",
       "   'address': 'muuD9tFS1wjEcJ4ah2ehw7kzxAdumeXJBS',\n",
       "   'xprv': 'tprv8kcwBo7UZt3XNpFJ8fAbo2pBG3QPVFXLgsNdSkfvsKRpNdyHMaCvdbawZDYi31YWGQZDbtiEdixCYyi2QvvjCXRF6Q6ybz6t9p6jwGuwsP5',\n",
       "   'xpub': 'tpubDHJyLD9iiFjCGHH62JqCCSUHq4vKeaiFGAyQjGiEHbEDD8E3yy2Wp6CojKz9gzkgRx6Rsne9mWb77bjRqDQ1PNLJhansQ2brrDAj9yvsn7w',\n",
       "   'privkey': 'cW3pLm2AETENpo2kyEF1osaDu2vaZ2zjY3qKk6jcHYGggUEwfwtY',\n",
       "   'pubkey': '02b9c53bbf0da1d01e63368b5ee6f79205605e360d2e3c20a274b5c4613054ae7b',\n",
       "   'pubkeyhash': '9dc750e03da5d46a860a5a3a9f8d2812c8b17956',\n",
       "   'index': 2}]}"
      ]
     },
     "execution_count": 12,
     "metadata": {},
     "output_type": "execute_result"
    }
   ],
   "source": [
    "coins"
   ]
  },
  {
   "cell_type": "code",
   "execution_count": 13,
   "id": "f9c6b6a4-d0fa-42e4-909e-2d04a45472f2",
   "metadata": {},
   "outputs": [
    {
     "name": "stdout",
     "output_type": "stream",
     "text": [
      "----------------------------------------------------------------\n",
      "eth\n",
      "privkey 0xfd9aa435d0aa51ae9ffd5c95ce88f51bfb1eedb80aa1606292c3b2c04aea1ac3\n",
      "0x3e47c6C5d0ab33f75423ef07476Ef14b2d0B0825\n",
      "privkey 0xc7e3e7fdb1471a699721800136c3530dd7c9a88a3ec9deb5c2c11da1855d0633\n",
      "0x14F977365DbE166A71B05FF87906B4a463869B6a\n",
      "privkey 0x5802feeea8b513a187b653069ce0439b68d1a6886cd562d80fdf1718aab2d99c\n",
      "0x895BC7f1336C6c19C8d7577f7e14CdB3Bdf692C2\n",
      "----------------------------------------------------------------\n",
      "btc-test\n",
      "privkey cNwnMuUon2Ak4QcPxTR1JNQQMV6x8dLDMiSNWPqJbyMBaWc8F2vE\n",
      "mrFiFfgtgtRuwtohKxAdwF7HEPVqjQwnnq\n",
      "privkey cQ6HmaAQa9JDiuhV2G8RWEFy5XZ3qPK5C2qrFy4KtfXXUK2Bgn5R\n",
      "mhrcgVgzUsh8psmrnFsHabdov74BAV7s86\n",
      "privkey cW3pLm2AETENpo2kyEF1osaDu2vaZ2zjY3qKk6jcHYGggUEwfwtY\n",
      "muuD9tFS1wjEcJ4ah2ehw7kzxAdumeXJBS\n"
     ]
    }
   ],
   "source": [
    "for x in coins:\n",
    "    print(\"-\"*64)\n",
    "    print(x)\n",
    "    for y in coins[x]:\n",
    "        print(\"privkey\", y[\"privkey\"])\n",
    "        account = priv_key_to_account(x, y[\"privkey\"])\n",
    "        print(account.address)"
   ]
  },
  {
   "cell_type": "code",
   "execution_count": 14,
   "id": "1cdb40c0-2cf1-4a13-8dfd-3e383f0b0c94",
   "metadata": {},
   "outputs": [
    {
     "data": {
      "text/plain": [
       "<eth_account.signers.local.LocalAccount at 0x1fbf9ac1a08>"
      ]
     },
     "execution_count": 14,
     "metadata": {},
     "output_type": "execute_result"
    }
   ],
   "source": [
    "account = priv_key_to_account(\"eth\", coins[\"eth\"][0][\"privkey\"])\n",
    "account"
   ]
  },
  {
   "cell_type": "code",
   "execution_count": 15,
   "id": "de8c1952-d8dd-4844-ba08-a0c3394ef7fd",
   "metadata": {},
   "outputs": [
    {
     "data": {
      "text/plain": [
       "HexBytes('0x8aeaa89d3334be56ccb37a87f2670e8bb02e659caffeb19b2c8af604dd4195a0')"
      ]
     },
     "execution_count": 15,
     "metadata": {},
     "output_type": "execute_result"
    }
   ],
   "source": [
    "send_tx(ETH, account, '0x14F977365DbE166A71B05FF87906B4a463869B6a', 1.1)"
   ]
  },
  {
   "cell_type": "code",
   "execution_count": 28,
   "id": "310e835b-bdd3-4f1d-a6d4-db5633e58b3d",
   "metadata": {},
   "outputs": [
    {
     "data": {
      "text/plain": [
       "<PrivateKeyTestnet: mrFiFfgtgtRuwtohKxAdwF7HEPVqjQwnnq>"
      ]
     },
     "execution_count": 28,
     "metadata": {},
     "output_type": "execute_result"
    }
   ],
   "source": [
    "account = priv_key_to_account(\"btc-test\", coins[\"btc-test\"][0][\"privkey\"])\n",
    "account"
   ]
  },
  {
   "cell_type": "code",
   "execution_count": 33,
   "id": "31e8ef59-28b5-4967-a9b8-288a1be66985",
   "metadata": {},
   "outputs": [
    {
     "ename": "InsufficientFunds",
     "evalue": "Balance 5682 is less than 23052 (including fee).",
     "output_type": "error",
     "traceback": [
      "\u001b[1;31m---------------------------------------------------------------------------\u001b[0m",
      "\u001b[1;31mInsufficientFunds\u001b[0m                         Traceback (most recent call last)",
      "\u001b[1;32m<ipython-input-33-5d1da81d462b>\u001b[0m in \u001b[0;36m<module>\u001b[1;34m\u001b[0m\n\u001b[1;32m----> 1\u001b[1;33m \u001b[0msend_tx\u001b[0m\u001b[1;33m(\u001b[0m\u001b[1;34m\"btc-test\"\u001b[0m\u001b[1;33m,\u001b[0m \u001b[0maccount\u001b[0m\u001b[1;33m,\u001b[0m \u001b[1;34m'mhrcgVgzUsh8psmrnFsHabdov74BAV7s86'\u001b[0m\u001b[1;33m,\u001b[0m \u001b[1;36m0.0000000000000000000000001\u001b[0m\u001b[1;33m)\u001b[0m\u001b[1;33m\u001b[0m\u001b[1;33m\u001b[0m\u001b[0m\n\u001b[0m",
      "\u001b[1;32m<ipython-input-11-c7d86e6fe619>\u001b[0m in \u001b[0;36msend_tx\u001b[1;34m(coin, account, to, amount)\u001b[0m\n\u001b[0;32m     62\u001b[0m         \u001b[1;32mreturn\u001b[0m \u001b[0mw3\u001b[0m\u001b[1;33m.\u001b[0m\u001b[0meth\u001b[0m\u001b[1;33m.\u001b[0m\u001b[0msendRawTransaction\u001b[0m\u001b[1;33m(\u001b[0m\u001b[0msigned\u001b[0m\u001b[1;33m.\u001b[0m\u001b[0mrawTransaction\u001b[0m\u001b[1;33m)\u001b[0m\u001b[1;33m\u001b[0m\u001b[1;33m\u001b[0m\u001b[0m\n\u001b[0;32m     63\u001b[0m     \u001b[1;32mif\u001b[0m \u001b[0mcoin\u001b[0m \u001b[1;33m==\u001b[0m \u001b[0mBTCTEST\u001b[0m\u001b[1;33m:\u001b[0m\u001b[1;33m\u001b[0m\u001b[1;33m\u001b[0m\u001b[0m\n\u001b[1;32m---> 64\u001b[1;33m         \u001b[0mraw_tx\u001b[0m \u001b[1;33m=\u001b[0m \u001b[0mcreate_tx\u001b[0m\u001b[1;33m(\u001b[0m\u001b[0mcoin\u001b[0m\u001b[1;33m,\u001b[0m \u001b[0maccount\u001b[0m\u001b[1;33m,\u001b[0m \u001b[0mto\u001b[0m\u001b[1;33m,\u001b[0m \u001b[0mamount\u001b[0m\u001b[1;33m)\u001b[0m\u001b[1;33m\u001b[0m\u001b[1;33m\u001b[0m\u001b[0m\n\u001b[0m\u001b[0;32m     65\u001b[0m         \u001b[0msigned\u001b[0m \u001b[1;33m=\u001b[0m \u001b[0maccount\u001b[0m\u001b[1;33m.\u001b[0m\u001b[0msign_transaction\u001b[0m\u001b[1;33m(\u001b[0m\u001b[0mraw_tx\u001b[0m\u001b[1;33m)\u001b[0m\u001b[1;33m\u001b[0m\u001b[1;33m\u001b[0m\u001b[0m\n\u001b[0;32m     66\u001b[0m         \u001b[1;32mreturn\u001b[0m \u001b[0mNetworkAPI\u001b[0m\u001b[1;33m.\u001b[0m\u001b[0mbroadcast_tx_testnet\u001b[0m\u001b[1;33m(\u001b[0m\u001b[0msigned\u001b[0m\u001b[1;33m)\u001b[0m\u001b[1;33m\u001b[0m\u001b[1;33m\u001b[0m\u001b[0m\n",
      "\u001b[1;32m<ipython-input-11-c7d86e6fe619>\u001b[0m in \u001b[0;36mcreate_tx\u001b[1;34m(coin, account, to, amount)\u001b[0m\n\u001b[0;32m     54\u001b[0m         }\n\u001b[0;32m     55\u001b[0m     \u001b[1;32mif\u001b[0m \u001b[0mcoin\u001b[0m \u001b[1;33m==\u001b[0m \u001b[0mBTCTEST\u001b[0m\u001b[1;33m:\u001b[0m\u001b[1;33m\u001b[0m\u001b[1;33m\u001b[0m\u001b[0m\n\u001b[1;32m---> 56\u001b[1;33m         \u001b[1;32mreturn\u001b[0m \u001b[0mPrivateKeyTestnet\u001b[0m\u001b[1;33m.\u001b[0m\u001b[0mprepare_transaction\u001b[0m\u001b[1;33m(\u001b[0m\u001b[0maccount\u001b[0m\u001b[1;33m.\u001b[0m\u001b[0maddress\u001b[0m\u001b[1;33m,\u001b[0m \u001b[1;33m[\u001b[0m\u001b[1;33m(\u001b[0m\u001b[0mto\u001b[0m\u001b[1;33m,\u001b[0m \u001b[0mamount\u001b[0m\u001b[1;33m,\u001b[0m \u001b[0mBTC\u001b[0m\u001b[1;33m)\u001b[0m\u001b[1;33m]\u001b[0m\u001b[1;33m)\u001b[0m\u001b[1;33m\u001b[0m\u001b[1;33m\u001b[0m\u001b[0m\n\u001b[0m\u001b[0;32m     57\u001b[0m \u001b[1;33m\u001b[0m\u001b[0m\n\u001b[0;32m     58\u001b[0m \u001b[1;32mdef\u001b[0m \u001b[0msend_tx\u001b[0m\u001b[1;33m(\u001b[0m\u001b[0mcoin\u001b[0m\u001b[1;33m,\u001b[0m \u001b[0maccount\u001b[0m\u001b[1;33m,\u001b[0m \u001b[0mto\u001b[0m\u001b[1;33m,\u001b[0m \u001b[0mamount\u001b[0m\u001b[1;33m)\u001b[0m\u001b[1;33m:\u001b[0m\u001b[1;33m\u001b[0m\u001b[1;33m\u001b[0m\u001b[0m\n",
      "\u001b[1;32m~\\anaconda3\\envs\\pyvizenv2\\lib\\site-packages\\bit\\wallet.py\u001b[0m in \u001b[0;36mprepare_transaction\u001b[1;34m(cls, address, outputs, compressed, fee, absolute_fee, leftover, combine, message, unspents, message_is_hex, replace_by_fee)\u001b[0m\n\u001b[0;32m    850\u001b[0m             \u001b[0mversion\u001b[0m\u001b[1;33m=\u001b[0m\u001b[1;34m'test'\u001b[0m\u001b[1;33m,\u001b[0m\u001b[1;33m\u001b[0m\u001b[1;33m\u001b[0m\u001b[0m\n\u001b[0;32m    851\u001b[0m             \u001b[0mmessage_is_hex\u001b[0m\u001b[1;33m=\u001b[0m\u001b[0mmessage_is_hex\u001b[0m\u001b[1;33m,\u001b[0m\u001b[1;33m\u001b[0m\u001b[1;33m\u001b[0m\u001b[0m\n\u001b[1;32m--> 852\u001b[1;33m             \u001b[0mreplace_by_fee\u001b[0m\u001b[1;33m=\u001b[0m\u001b[0mreplace_by_fee\u001b[0m\u001b[1;33m\u001b[0m\u001b[1;33m\u001b[0m\u001b[0m\n\u001b[0m\u001b[0;32m    853\u001b[0m         )\n\u001b[0;32m    854\u001b[0m \u001b[1;33m\u001b[0m\u001b[0m\n",
      "\u001b[1;32m~\\anaconda3\\envs\\pyvizenv2\\lib\\site-packages\\bit\\transaction.py\u001b[0m in \u001b[0;36msanitize_tx_data\u001b[1;34m(unspents, outputs, fee, leftover, combine, message, compressed, absolute_fee, min_change, version, message_is_hex, replace_by_fee)\u001b[0m\n\u001b[0;32m    432\u001b[0m         \u001b[0mabsolute_fee\u001b[0m\u001b[1;33m=\u001b[0m\u001b[0mabsolute_fee\u001b[0m\u001b[1;33m,\u001b[0m\u001b[1;33m\u001b[0m\u001b[1;33m\u001b[0m\u001b[0m\n\u001b[0;32m    433\u001b[0m         \u001b[0mconsolidate\u001b[0m\u001b[1;33m=\u001b[0m\u001b[0mcombine\u001b[0m\u001b[1;33m,\u001b[0m\u001b[1;33m\u001b[0m\u001b[1;33m\u001b[0m\u001b[0m\n\u001b[1;32m--> 434\u001b[1;33m         \u001b[0munspents\u001b[0m\u001b[1;33m=\u001b[0m\u001b[0munspents\u001b[0m\u001b[1;33m,\u001b[0m\u001b[1;33m\u001b[0m\u001b[1;33m\u001b[0m\u001b[0m\n\u001b[0m\u001b[0;32m    435\u001b[0m     )\n\u001b[0;32m    436\u001b[0m \u001b[1;33m\u001b[0m\u001b[0m\n",
      "\u001b[1;32m~\\anaconda3\\envs\\pyvizenv2\\lib\\site-packages\\bit\\transaction.py\u001b[0m in \u001b[0;36mselect_coins\u001b[1;34m(target, fee, output_size, min_change, absolute_fee, consolidate, unspents)\u001b[0m\n\u001b[0;32m    326\u001b[0m             raise InsufficientFunds(\n\u001b[0;32m    327\u001b[0m                 \u001b[1;34m'Balance {} is less than {} (including '\u001b[0m\u001b[1;33m\u001b[0m\u001b[1;33m\u001b[0m\u001b[0m\n\u001b[1;32m--> 328\u001b[1;33m                 \u001b[1;34m'fee).'\u001b[0m\u001b[1;33m.\u001b[0m\u001b[0mformat\u001b[0m\u001b[1;33m(\u001b[0m\u001b[0msum\u001b[0m\u001b[1;33m(\u001b[0m\u001b[0mu\u001b[0m\u001b[1;33m.\u001b[0m\u001b[0mamount\u001b[0m \u001b[1;32mfor\u001b[0m \u001b[0mu\u001b[0m \u001b[1;32min\u001b[0m \u001b[0mselected_coins\u001b[0m\u001b[1;33m)\u001b[0m\u001b[1;33m,\u001b[0m \u001b[0mtarget\u001b[0m \u001b[1;33m+\u001b[0m \u001b[0mmin_change\u001b[0m \u001b[1;33m+\u001b[0m \u001b[0mestimated_fee\u001b[0m\u001b[1;33m)\u001b[0m\u001b[1;33m\u001b[0m\u001b[1;33m\u001b[0m\u001b[0m\n\u001b[0m\u001b[0;32m    329\u001b[0m             )\n\u001b[0;32m    330\u001b[0m \u001b[1;33m\u001b[0m\u001b[0m\n",
      "\u001b[1;31mInsufficientFunds\u001b[0m: Balance 5682 is less than 23052 (including fee)."
     ]
    }
   ],
   "source": [
    "send_tx(\"btc-test\", account, 'mhrcgVgzUsh8psmrnFsHabdov74BAV7s86', 0.0000000000000000000000001)"
   ]
  },
  {
   "cell_type": "code",
   "execution_count": null,
   "id": "f0375380-2eec-41ca-a821-28a52590d0c7",
   "metadata": {},
   "outputs": [],
   "source": []
  }
 ],
 "metadata": {
  "kernelspec": {
   "display_name": "Python [conda env:pyvizenv2]",
   "language": "python",
   "name": "conda-env-pyvizenv2-py"
  },
  "language_info": {
   "codemirror_mode": {
    "name": "ipython",
    "version": 3
   },
   "file_extension": ".py",
   "mimetype": "text/x-python",
   "name": "python",
   "nbconvert_exporter": "python",
   "pygments_lexer": "ipython3",
   "version": "3.7.10"
  }
 },
 "nbformat": 4,
 "nbformat_minor": 5
}
