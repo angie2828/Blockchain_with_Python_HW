{
 "cells": [
  {
   "cell_type": "code",
   "execution_count": 1,
   "id": "a60191b5-ac8d-4d61-9296-b507ca8d7453",
   "metadata": {},
   "outputs": [
    {
     "ename": "ModuleNotFoundError",
     "evalue": "No module named 'web3'",
     "output_type": "error",
     "traceback": [
      "\u001b[1;31m---------------------------------------------------------------------------\u001b[0m",
      "\u001b[1;31mModuleNotFoundError\u001b[0m                       Traceback (most recent call last)",
      "\u001b[1;32m<ipython-input-1-288c4db795f3>\u001b[0m in \u001b[0;36m<module>\u001b[1;34m\u001b[0m\n\u001b[0;32m      1\u001b[0m \u001b[1;32mimport\u001b[0m \u001b[0mos\u001b[0m\u001b[1;33m\u001b[0m\u001b[1;33m\u001b[0m\u001b[0m\n\u001b[1;32m----> 2\u001b[1;33m \u001b[1;32mfrom\u001b[0m \u001b[0mweb3\u001b[0m \u001b[1;32mimport\u001b[0m \u001b[0mWeb3\u001b[0m\u001b[1;33m\u001b[0m\u001b[1;33m\u001b[0m\u001b[0m\n\u001b[0m\u001b[0;32m      3\u001b[0m \u001b[1;32mfrom\u001b[0m \u001b[0mdotenv\u001b[0m \u001b[1;32mimport\u001b[0m \u001b[0mload_dotenv\u001b[0m\u001b[1;33m\u001b[0m\u001b[1;33m\u001b[0m\u001b[0m\n\u001b[0;32m      4\u001b[0m \u001b[1;32mfrom\u001b[0m \u001b[0mweb3\u001b[0m\u001b[1;33m.\u001b[0m\u001b[0mmiddleware\u001b[0m \u001b[1;32mimport\u001b[0m \u001b[0mgeth_poa_middleware\u001b[0m\u001b[1;33m\u001b[0m\u001b[1;33m\u001b[0m\u001b[0m\n\u001b[0;32m      5\u001b[0m \u001b[1;32mfrom\u001b[0m \u001b[0meth_account\u001b[0m \u001b[1;32mimport\u001b[0m \u001b[0mAccount\u001b[0m\u001b[1;33m\u001b[0m\u001b[1;33m\u001b[0m\u001b[0m\n",
      "\u001b[1;31mModuleNotFoundError\u001b[0m: No module named 'web3'"
     ]
    }
   ],
   "source": [
    "import os\n",
    "from web3 import Web3\n",
    "from dotenv import load_dotenv\n",
    "from web3.middleware import geth_poa_middleware\n",
    "from eth_account import Account\n",
    "\n",
    "from pathlib import Path\n",
    "from getpass import getpass\n",
    "\n",
    "load_dotenv()\n",
    "\n",
    "w3 = Web3(Web3.HTTPProvider(\"http://127.0.0.1:8545\"))\n",
    "w3.middleware_onion.inject(geth_poa_middleware, layer=0)\n",
    "\n",
    "print(w3.eth.blockNumber)\n",
    "\n",
    "private_key = os.getenv(\"PRIVATE_KEY\")\n",
    "account_one = Account.from_key(private_key)\n",
    "\n",
    "\n",
    "with open(Path(\"UTC--2021-10-24T20-48-25.024380600Z--e0a28831285e227ba3af29d751cd599a19d64092\")) as keyfile:\n",
    "    encrypted_key = keyfile.read()\n",
    "    private_key = w3.eth.account.decrypt(\n",
    "        encrypted_key, getpass(\"Enter keystore password: \")\n",
    "    )\n",
    "    account_two = Account.from_key(private_key)\n",
    "\n",
    "    \n",
    "\n",
    "def create_raw_tx(account, recipient, amount):\n",
    "    gasEstimate = w3.eth.estimateGas(\n",
    "        {\"from\": account.address, \"to\": recipient, \"value\": amount}\n",
    "    )\n",
    "    return {\n",
    "        \"from\": account.address,\n",
    "        \"to\": recipient,\n",
    "        \"value\": amount,\n",
    "        \"gasPrice\": w3.eth.gasPrice,\n",
    "        \"gas\": gasEstimate,\n",
    "        \"nonce\": w3.eth.getTransactionCount(account.address),\n",
    "    }\n",
    "\n",
    "\n",
    "def send_tx(account, recipient, amount):\n",
    "    tx = create_raw_tx(account, recipient, amount)\n",
    "    signed_tx = account.sign_transaction(tx)\n",
    "    result = w3.eth.sendRawTransaction(signed_tx.rawTransaction)\n",
    "    print(result.hex())\n",
    "    return result.hex()\n",
    "\n",
    "send_tx(account_one, account_two.address, 555555555555555)"
   ]
  },
  {
   "cell_type": "code",
   "execution_count": 2,
   "id": "599b07ca-9036-4ded-ab27-0e4eae35887e",
   "metadata": {},
   "outputs": [
    {
     "name": "stdout",
     "output_type": "stream",
     "text": [
      "Collecting Web3\n",
      "  Using cached web3-5.24.0-py3-none-any.whl (487 kB)\n",
      "Requirement already satisfied: eth-abi<3.0.0,>=2.0.0b6 in c:\\users\\afuen\\anaconda3\\envs\\pyvizenv2\\lib\\site-packages (from Web3) (2.1.1)\n",
      "Collecting ipfshttpclient==0.8.0a2\n",
      "  Using cached ipfshttpclient-0.8.0a2-py3-none-any.whl (82 kB)\n",
      "Collecting aiohttp<4,>=3.7.4.post0\n",
      "  Using cached aiohttp-3.7.4.post0-cp37-cp37m-win_amd64.whl (630 kB)\n",
      "Requirement already satisfied: eth-hash[pycryptodome]<1.0.0,>=0.2.0 in c:\\users\\afuen\\anaconda3\\envs\\pyvizenv2\\lib\\site-packages (from Web3) (0.3.2)\n",
      "Requirement already satisfied: eth-utils<2.0.0,>=1.9.5 in c:\\users\\afuen\\anaconda3\\envs\\pyvizenv2\\lib\\site-packages (from Web3) (1.10.0)\n",
      "Requirement already satisfied: eth-typing<3.0.0,>=2.0.0 in c:\\users\\afuen\\anaconda3\\envs\\pyvizenv2\\lib\\site-packages (from Web3) (2.2.2)\n",
      "Requirement already satisfied: jsonschema<4.0.0,>=3.2.0 in c:\\users\\afuen\\anaconda3\\envs\\pyvizenv2\\lib\\site-packages (from Web3) (3.2.0)\n",
      "Collecting eth-account<0.6.0,>=0.5.6\n",
      "  Using cached eth_account-0.5.6-py3-none-any.whl (101 kB)\n",
      "Requirement already satisfied: hexbytes<1.0.0,>=0.1.0 in c:\\users\\afuen\\anaconda3\\envs\\pyvizenv2\\lib\\site-packages (from Web3) (0.2.2)\n",
      "Requirement already satisfied: websockets<10,>=9.1 in c:\\users\\afuen\\anaconda3\\envs\\pyvizenv2\\lib\\site-packages (from Web3) (9.1)\n",
      "Requirement already satisfied: protobuf<4,>=3.10.0 in c:\\users\\afuen\\anaconda3\\envs\\pyvizenv2\\lib\\site-packages (from Web3) (3.17.3)\n",
      "Requirement already satisfied: typing-extensions<4,>=3.7.4.1 in c:\\users\\afuen\\anaconda3\\envs\\pyvizenv2\\lib\\site-packages (from Web3) (3.7.4.3)\n",
      "Collecting lru-dict<2.0.0,>=1.1.6\n",
      "  Using cached lru-dict-1.1.7.tar.gz (10 kB)\n",
      "Requirement already satisfied: requests<3.0.0,>=2.16.0 in c:\\users\\afuen\\anaconda3\\envs\\pyvizenv2\\lib\\site-packages (from Web3) (2.25.1)\n",
      "Requirement already satisfied: pywin32>=223 in c:\\users\\afuen\\anaconda3\\envs\\pyvizenv2\\lib\\site-packages (from Web3) (227)\n",
      "Requirement already satisfied: multiaddr>=0.0.7 in c:\\users\\afuen\\anaconda3\\envs\\pyvizenv2\\lib\\site-packages (from ipfshttpclient==0.8.0a2->Web3) (0.0.9)\n",
      "Collecting async-timeout<4.0,>=3.0\n",
      "  Using cached async_timeout-3.0.1-py3-none-any.whl (8.2 kB)\n",
      "Requirement already satisfied: chardet<5.0,>=2.0 in c:\\users\\afuen\\anaconda3\\envs\\pyvizenv2\\lib\\site-packages (from aiohttp<4,>=3.7.4.post0->Web3) (4.0.0)\n",
      "Requirement already satisfied: multidict<7.0,>=4.5 in c:\\users\\afuen\\anaconda3\\envs\\pyvizenv2\\lib\\site-packages (from aiohttp<4,>=3.7.4.post0->Web3) (5.2.0)\n",
      "Requirement already satisfied: yarl<2.0,>=1.0 in c:\\users\\afuen\\anaconda3\\envs\\pyvizenv2\\lib\\site-packages (from aiohttp<4,>=3.7.4.post0->Web3) (1.7.0)\n",
      "Requirement already satisfied: attrs>=17.3.0 in c:\\users\\afuen\\anaconda3\\envs\\pyvizenv2\\lib\\site-packages (from aiohttp<4,>=3.7.4.post0->Web3) (21.2.0)\n",
      "Requirement already satisfied: parsimonious<0.9.0,>=0.8.0 in c:\\users\\afuen\\anaconda3\\envs\\pyvizenv2\\lib\\site-packages (from eth-abi<3.0.0,>=2.0.0b6->Web3) (0.8.1)\n",
      "Collecting bitarray<1.3.0,>=1.2.1\n",
      "  Using cached bitarray-1.2.2.tar.gz (48 kB)\n",
      "Requirement already satisfied: eth-keyfile<0.6.0,>=0.5.0 in c:\\users\\afuen\\anaconda3\\envs\\pyvizenv2\\lib\\site-packages (from eth-account<0.6.0,>=0.5.6->Web3) (0.5.1)\n",
      "Requirement already satisfied: rlp<3,>=1.0.0 in c:\\users\\afuen\\anaconda3\\envs\\pyvizenv2\\lib\\site-packages (from eth-account<0.6.0,>=0.5.6->Web3) (2.0.1)\n",
      "Requirement already satisfied: eth-rlp<2,>=0.1.2 in c:\\users\\afuen\\anaconda3\\envs\\pyvizenv2\\lib\\site-packages (from eth-account<0.6.0,>=0.5.6->Web3) (0.2.1)\n",
      "Requirement already satisfied: eth-keys!=0.3.2,<0.4.0,>=0.2.1 in c:\\users\\afuen\\anaconda3\\envs\\pyvizenv2\\lib\\site-packages (from eth-account<0.6.0,>=0.5.6->Web3) (0.3.3)\n",
      "Requirement already satisfied: pycryptodome<4,>=3.6.6 in c:\\users\\afuen\\anaconda3\\envs\\pyvizenv2\\lib\\site-packages (from eth-hash[pycryptodome]<1.0.0,>=0.2.0->Web3) (3.11.0)\n",
      "Requirement already satisfied: cytoolz<1.0.0,>=0.9.0 in c:\\users\\afuen\\anaconda3\\envs\\pyvizenv2\\lib\\site-packages (from eth-keyfile<0.6.0,>=0.5.0->eth-account<0.6.0,>=0.5.6->Web3) (0.11.0)\n",
      "Requirement already satisfied: toolz>=0.8.0 in c:\\users\\afuen\\anaconda3\\envs\\pyvizenv2\\lib\\site-packages (from cytoolz<1.0.0,>=0.9.0->eth-keyfile<0.6.0,>=0.5.0->eth-account<0.6.0,>=0.5.6->Web3) (0.11.1)\n",
      "Requirement already satisfied: six>=1.11.0 in c:\\users\\afuen\\anaconda3\\envs\\pyvizenv2\\lib\\site-packages (from jsonschema<4.0.0,>=3.2.0->Web3) (1.15.0)\n",
      "Requirement already satisfied: setuptools in c:\\users\\afuen\\anaconda3\\envs\\pyvizenv2\\lib\\site-packages (from jsonschema<4.0.0,>=3.2.0->Web3) (52.0.0.post20210125)\n",
      "Requirement already satisfied: pyrsistent>=0.14.0 in c:\\users\\afuen\\anaconda3\\envs\\pyvizenv2\\lib\\site-packages (from jsonschema<4.0.0,>=3.2.0->Web3) (0.17.3)\n",
      "Requirement already satisfied: importlib-metadata in c:\\users\\afuen\\anaconda3\\envs\\pyvizenv2\\lib\\site-packages (from jsonschema<4.0.0,>=3.2.0->Web3) (3.10.0)\n",
      "Requirement already satisfied: varint in c:\\users\\afuen\\anaconda3\\envs\\pyvizenv2\\lib\\site-packages (from multiaddr>=0.0.7->ipfshttpclient==0.8.0a2->Web3) (1.0.2)\n",
      "Requirement already satisfied: netaddr in c:\\users\\afuen\\anaconda3\\envs\\pyvizenv2\\lib\\site-packages (from multiaddr>=0.0.7->ipfshttpclient==0.8.0a2->Web3) (0.8.0)\n",
      "Requirement already satisfied: base58 in c:\\users\\afuen\\anaconda3\\envs\\pyvizenv2\\lib\\site-packages (from multiaddr>=0.0.7->ipfshttpclient==0.8.0a2->Web3) (2.1.0)\n",
      "Requirement already satisfied: idna<3,>=2.5 in c:\\users\\afuen\\anaconda3\\envs\\pyvizenv2\\lib\\site-packages (from requests<3.0.0,>=2.16.0->Web3) (2.10)\n",
      "Requirement already satisfied: urllib3<1.27,>=1.21.1 in c:\\users\\afuen\\anaconda3\\envs\\pyvizenv2\\lib\\site-packages (from requests<3.0.0,>=2.16.0->Web3) (1.26.6)\n",
      "Requirement already satisfied: certifi>=2017.4.17 in c:\\users\\afuen\\anaconda3\\envs\\pyvizenv2\\lib\\site-packages (from requests<3.0.0,>=2.16.0->Web3) (2021.5.30)\n",
      "Requirement already satisfied: zipp>=0.5 in c:\\users\\afuen\\anaconda3\\envs\\pyvizenv2\\lib\\site-packages (from importlib-metadata->jsonschema<4.0.0,>=3.2.0->Web3) (3.5.0)\n",
      "Building wheels for collected packages: bitarray, lru-dict\n",
      "  Building wheel for bitarray (setup.py): started\n",
      "  Building wheel for bitarray (setup.py): finished with status 'error'\n",
      "  Running setup.py clean for bitarray\n",
      "  Building wheel for lru-dict (setup.py): started\n",
      "  Building wheel for lru-dict (setup.py): finished with status 'error'\n",
      "  Running setup.py clean for lru-dict\n",
      "Failed to build bitarray lru-dict\n",
      "Installing collected packages: bitarray, async-timeout, lru-dict, ipfshttpclient, eth-account, aiohttp, Web3\n",
      "    Running setup.py install for bitarray: started\n",
      "    Running setup.py install for bitarray: finished with status 'error'\n",
      "Note: you may need to restart the kernel to use updated packages.\n"
     ]
    },
    {
     "name": "stderr",
     "output_type": "stream",
     "text": [
      "  ERROR: Command errored out with exit status 1:\n",
      "   command: 'C:\\Users\\afuen\\anaconda3\\envs\\pyvizenv2\\python.exe' -u -c 'import io, os, sys, setuptools, tokenize; sys.argv[0] = '\"'\"'C:\\\\Users\\\\afuen\\\\AppData\\\\Local\\\\Temp\\\\pip-install-4bzzidzc\\\\bitarray_7ba6349985594b0983d213288a84fa59\\\\setup.py'\"'\"'; __file__='\"'\"'C:\\\\Users\\\\afuen\\\\AppData\\\\Local\\\\Temp\\\\pip-install-4bzzidzc\\\\bitarray_7ba6349985594b0983d213288a84fa59\\\\setup.py'\"'\"';f = getattr(tokenize, '\"'\"'open'\"'\"', open)(__file__) if os.path.exists(__file__) else io.StringIO('\"'\"'from setuptools import setup; setup()'\"'\"');code = f.read().replace('\"'\"'\\r\\n'\"'\"', '\"'\"'\\n'\"'\"');f.close();exec(compile(code, __file__, '\"'\"'exec'\"'\"'))' bdist_wheel -d 'C:\\Users\\afuen\\AppData\\Local\\Temp\\pip-wheel-i7zkonh5'\n",
      "       cwd: C:\\Users\\afuen\\AppData\\Local\\Temp\\pip-install-4bzzidzc\\bitarray_7ba6349985594b0983d213288a84fa59\\\n",
      "  Complete output (13 lines):\n",
      "  running bdist_wheel\n",
      "  running build\n",
      "  running build_py\n",
      "  creating build\n",
      "  creating build\\lib.win-amd64-3.7\n",
      "  creating build\\lib.win-amd64-3.7\\bitarray\n",
      "  copying bitarray\\test_bitarray.py -> build\\lib.win-amd64-3.7\\bitarray\n",
      "  copying bitarray\\test_util.py -> build\\lib.win-amd64-3.7\\bitarray\n",
      "  copying bitarray\\util.py -> build\\lib.win-amd64-3.7\\bitarray\n",
      "  copying bitarray\\__init__.py -> build\\lib.win-amd64-3.7\\bitarray\n",
      "  running build_ext\n",
      "  building 'bitarray._bitarray' extension\n",
      "  error: Microsoft Visual C++ 14.0 or greater is required. Get it with \"Microsoft C++ Build Tools\": https://visualstudio.microsoft.com/visual-cpp-build-tools/\n",
      "  ----------------------------------------\n",
      "  ERROR: Failed building wheel for bitarray\n",
      "  ERROR: Command errored out with exit status 1:\n",
      "   command: 'C:\\Users\\afuen\\anaconda3\\envs\\pyvizenv2\\python.exe' -u -c 'import io, os, sys, setuptools, tokenize; sys.argv[0] = '\"'\"'C:\\\\Users\\\\afuen\\\\AppData\\\\Local\\\\Temp\\\\pip-install-4bzzidzc\\\\lru-dict_cd46033e4979482aa18e7e6141246c13\\\\setup.py'\"'\"'; __file__='\"'\"'C:\\\\Users\\\\afuen\\\\AppData\\\\Local\\\\Temp\\\\pip-install-4bzzidzc\\\\lru-dict_cd46033e4979482aa18e7e6141246c13\\\\setup.py'\"'\"';f = getattr(tokenize, '\"'\"'open'\"'\"', open)(__file__) if os.path.exists(__file__) else io.StringIO('\"'\"'from setuptools import setup; setup()'\"'\"');code = f.read().replace('\"'\"'\\r\\n'\"'\"', '\"'\"'\\n'\"'\"');f.close();exec(compile(code, __file__, '\"'\"'exec'\"'\"'))' bdist_wheel -d 'C:\\Users\\afuen\\AppData\\Local\\Temp\\pip-wheel-u02v5jnq'\n",
      "       cwd: C:\\Users\\afuen\\AppData\\Local\\Temp\\pip-install-4bzzidzc\\lru-dict_cd46033e4979482aa18e7e6141246c13\\\n",
      "  Complete output (5 lines):\n",
      "  running bdist_wheel\n",
      "  running build\n",
      "  running build_ext\n",
      "  building 'lru' extension\n",
      "  error: Microsoft Visual C++ 14.0 or greater is required. Get it with \"Microsoft C++ Build Tools\": https://visualstudio.microsoft.com/visual-cpp-build-tools/\n",
      "  ----------------------------------------\n",
      "  ERROR: Failed building wheel for lru-dict\n",
      "    ERROR: Command errored out with exit status 1:\n",
      "     command: 'C:\\Users\\afuen\\anaconda3\\envs\\pyvizenv2\\python.exe' -u -c 'import io, os, sys, setuptools, tokenize; sys.argv[0] = '\"'\"'C:\\\\Users\\\\afuen\\\\AppData\\\\Local\\\\Temp\\\\pip-install-4bzzidzc\\\\bitarray_7ba6349985594b0983d213288a84fa59\\\\setup.py'\"'\"'; __file__='\"'\"'C:\\\\Users\\\\afuen\\\\AppData\\\\Local\\\\Temp\\\\pip-install-4bzzidzc\\\\bitarray_7ba6349985594b0983d213288a84fa59\\\\setup.py'\"'\"';f = getattr(tokenize, '\"'\"'open'\"'\"', open)(__file__) if os.path.exists(__file__) else io.StringIO('\"'\"'from setuptools import setup; setup()'\"'\"');code = f.read().replace('\"'\"'\\r\\n'\"'\"', '\"'\"'\\n'\"'\"');f.close();exec(compile(code, __file__, '\"'\"'exec'\"'\"'))' install --record 'C:\\Users\\afuen\\AppData\\Local\\Temp\\pip-record-naoec_vg\\install-record.txt' --single-version-externally-managed --compile --install-headers 'C:\\Users\\afuen\\anaconda3\\envs\\pyvizenv2\\Include\\bitarray'\n",
      "         cwd: C:\\Users\\afuen\\AppData\\Local\\Temp\\pip-install-4bzzidzc\\bitarray_7ba6349985594b0983d213288a84fa59\\\n",
      "    Complete output (13 lines):\n",
      "    running install\n",
      "    running build\n",
      "    running build_py\n",
      "    creating build\n",
      "    creating build\\lib.win-amd64-3.7\n",
      "    creating build\\lib.win-amd64-3.7\\bitarray\n",
      "    copying bitarray\\test_bitarray.py -> build\\lib.win-amd64-3.7\\bitarray\n",
      "    copying bitarray\\test_util.py -> build\\lib.win-amd64-3.7\\bitarray\n",
      "    copying bitarray\\util.py -> build\\lib.win-amd64-3.7\\bitarray\n",
      "    copying bitarray\\__init__.py -> build\\lib.win-amd64-3.7\\bitarray\n",
      "    running build_ext\n",
      "    building 'bitarray._bitarray' extension\n",
      "    error: Microsoft Visual C++ 14.0 or greater is required. Get it with \"Microsoft C++ Build Tools\": https://visualstudio.microsoft.com/visual-cpp-build-tools/\n",
      "    ----------------------------------------\n",
      "ERROR: Command errored out with exit status 1: 'C:\\Users\\afuen\\anaconda3\\envs\\pyvizenv2\\python.exe' -u -c 'import io, os, sys, setuptools, tokenize; sys.argv[0] = '\"'\"'C:\\\\Users\\\\afuen\\\\AppData\\\\Local\\\\Temp\\\\pip-install-4bzzidzc\\\\bitarray_7ba6349985594b0983d213288a84fa59\\\\setup.py'\"'\"'; __file__='\"'\"'C:\\\\Users\\\\afuen\\\\AppData\\\\Local\\\\Temp\\\\pip-install-4bzzidzc\\\\bitarray_7ba6349985594b0983d213288a84fa59\\\\setup.py'\"'\"';f = getattr(tokenize, '\"'\"'open'\"'\"', open)(__file__) if os.path.exists(__file__) else io.StringIO('\"'\"'from setuptools import setup; setup()'\"'\"');code = f.read().replace('\"'\"'\\r\\n'\"'\"', '\"'\"'\\n'\"'\"');f.close();exec(compile(code, __file__, '\"'\"'exec'\"'\"'))' install --record 'C:\\Users\\afuen\\AppData\\Local\\Temp\\pip-record-naoec_vg\\install-record.txt' --single-version-externally-managed --compile --install-headers 'C:\\Users\\afuen\\anaconda3\\envs\\pyvizenv2\\Include\\bitarray' Check the logs for full command output.\n"
     ]
    }
   ],
   "source": [
    "pip install Web3"
   ]
  },
  {
   "cell_type": "code",
   "execution_count": 3,
   "id": "9b2f99bb-21c4-4f9f-881b-3913d4678f6d",
   "metadata": {},
   "outputs": [
    {
     "ename": "NameError",
     "evalue": "name 'account_one' is not defined",
     "output_type": "error",
     "traceback": [
      "\u001b[1;31m---------------------------------------------------------------------------\u001b[0m",
      "\u001b[1;31mNameError\u001b[0m                                 Traceback (most recent call last)",
      "\u001b[1;32m<ipython-input-3-79f79a808870>\u001b[0m in \u001b[0;36m<module>\u001b[1;34m\u001b[0m\n\u001b[1;32m----> 1\u001b[1;33m \u001b[0mprint\u001b[0m\u001b[1;33m(\u001b[0m\u001b[0maccount_one\u001b[0m\u001b[1;33m.\u001b[0m\u001b[0maddress\u001b[0m\u001b[1;33m)\u001b[0m\u001b[1;33m\u001b[0m\u001b[1;33m\u001b[0m\u001b[0m\n\u001b[0m\u001b[0;32m      2\u001b[0m \u001b[0mprint\u001b[0m\u001b[1;33m(\u001b[0m\u001b[0maccount_two\u001b[0m\u001b[1;33m.\u001b[0m\u001b[0maddress\u001b[0m\u001b[1;33m)\u001b[0m\u001b[1;33m\u001b[0m\u001b[1;33m\u001b[0m\u001b[0m\n",
      "\u001b[1;31mNameError\u001b[0m: name 'account_one' is not defined"
     ]
    }
   ],
   "source": [
    "print(account_one.address)\n",
    "print(account_two.address)"
   ]
  },
  {
   "cell_type": "code",
   "execution_count": 4,
   "id": "253ce9bd-a798-45d6-a70f-bbe4ba643d56",
   "metadata": {},
   "outputs": [
    {
     "ename": "NameError",
     "evalue": "name 'w3' is not defined",
     "output_type": "error",
     "traceback": [
      "\u001b[1;31m---------------------------------------------------------------------------\u001b[0m",
      "\u001b[1;31mNameError\u001b[0m                                 Traceback (most recent call last)",
      "\u001b[1;32m<ipython-input-4-4393938e545c>\u001b[0m in \u001b[0;36m<module>\u001b[1;34m\u001b[0m\n\u001b[1;32m----> 1\u001b[1;33m \u001b[0mw3\u001b[0m\u001b[1;33m.\u001b[0m\u001b[0meth\u001b[0m\u001b[1;33m.\u001b[0m\u001b[0mgetTransactionReceipt\u001b[0m\u001b[1;33m(\u001b[0m\u001b[1;34m\"\"\u001b[0m\u001b[1;33m)\u001b[0m\u001b[1;33m\u001b[0m\u001b[1;33m\u001b[0m\u001b[0m\n\u001b[0m",
      "\u001b[1;31mNameError\u001b[0m: name 'w3' is not defined"
     ]
    }
   ],
   "source": [
    "w3.eth.getTransactionReceipt(\"\")"
   ]
  },
  {
   "cell_type": "code",
   "execution_count": 5,
   "id": "7407811b-357c-4951-abdd-de3408e1c9ac",
   "metadata": {},
   "outputs": [
    {
     "ename": "NameError",
     "evalue": "name 'Web3' is not defined",
     "output_type": "error",
     "traceback": [
      "\u001b[1;31m---------------------------------------------------------------------------\u001b[0m",
      "\u001b[1;31mNameError\u001b[0m                                 Traceback (most recent call last)",
      "\u001b[1;32m<ipython-input-5-ed8994f136e4>\u001b[0m in \u001b[0;36m<module>\u001b[1;34m\u001b[0m\n\u001b[0;32m      1\u001b[0m \u001b[1;31m# Convert the hash to the correct format\u001b[0m\u001b[1;33m\u001b[0m\u001b[1;33m\u001b[0m\u001b[1;33m\u001b[0m\u001b[0m\n\u001b[1;32m----> 2\u001b[1;33m \u001b[0mWeb3\u001b[0m\u001b[1;33m.\u001b[0m\u001b[0mtoChecksumAddress\u001b[0m\u001b[1;33m(\u001b[0m\u001b[1;34m\"0xb42562bC046f18f31ECF0a0126557bef3676d7E8\"\u001b[0m\u001b[1;33m)\u001b[0m\u001b[1;33m\u001b[0m\u001b[1;33m\u001b[0m\u001b[0m\n\u001b[0m",
      "\u001b[1;31mNameError\u001b[0m: name 'Web3' is not defined"
     ]
    }
   ],
   "source": [
    "\n",
    "# Convert the hash to the correct format\n",
    "Web3.toChecksumAddress(\"\")"
   ]
  },
  {
   "cell_type": "code",
   "execution_count": 6,
   "id": "930209ec-d530-4d5b-9df3-ac17d89b26ee",
   "metadata": {},
   "outputs": [
    {
     "ename": "NameError",
     "evalue": "name 'w3' is not defined",
     "output_type": "error",
     "traceback": [
      "\u001b[1;31m---------------------------------------------------------------------------\u001b[0m",
      "\u001b[1;31mNameError\u001b[0m                                 Traceback (most recent call last)",
      "\u001b[1;32m<ipython-input-6-8d8d2fc3c6a4>\u001b[0m in \u001b[0;36m<module>\u001b[1;34m\u001b[0m\n\u001b[1;32m----> 1\u001b[1;33m \u001b[0mw3\u001b[0m\u001b[1;33m.\u001b[0m\u001b[0meth\u001b[0m\u001b[1;33m.\u001b[0m\u001b[0mblockNumber\u001b[0m\u001b[1;33m\u001b[0m\u001b[1;33m\u001b[0m\u001b[0m\n\u001b[0m",
      "\u001b[1;31mNameError\u001b[0m: name 'w3' is not defined"
     ]
    }
   ],
   "source": [
    "w3.eth.blockNumber"
   ]
  },
  {
   "cell_type": "code",
   "execution_count": 7,
   "id": "3bbea9f9-db72-486c-af39-581419f0e603",
   "metadata": {},
   "outputs": [
    {
     "ename": "NameError",
     "evalue": "name 'w3' is not defined",
     "output_type": "error",
     "traceback": [
      "\u001b[1;31m---------------------------------------------------------------------------\u001b[0m",
      "\u001b[1;31mNameError\u001b[0m                                 Traceback (most recent call last)",
      "\u001b[1;32m<ipython-input-7-ccbfc6cb4481>\u001b[0m in \u001b[0;36m<module>\u001b[1;34m\u001b[0m\n\u001b[1;32m----> 1\u001b[1;33m \u001b[0mw3\u001b[0m\u001b[1;33m.\u001b[0m\u001b[0meth\u001b[0m\u001b[1;33m.\u001b[0m\u001b[0mgetBalance\u001b[0m\u001b[1;33m(\u001b[0m\u001b[1;34m\"0xffc5F361b2804Fe240595df4514665E74E7C5eE5\"\u001b[0m\u001b[1;33m)\u001b[0m\u001b[1;33m\u001b[0m\u001b[1;33m\u001b[0m\u001b[0m\n\u001b[0m",
      "\u001b[1;31mNameError\u001b[0m: name 'w3' is not defined"
     ]
    }
   ],
   "source": [
    "w3.eth.getBalance(\"\")"
   ]
  },
  {
   "cell_type": "code",
   "execution_count": 8,
   "id": "d3bdcc7b-f574-43b1-a0f8-4a7d719c0786",
   "metadata": {},
   "outputs": [
    {
     "ename": "NameError",
     "evalue": "name 'w3' is not defined",
     "output_type": "error",
     "traceback": [
      "\u001b[1;31m---------------------------------------------------------------------------\u001b[0m",
      "\u001b[1;31mNameError\u001b[0m                                 Traceback (most recent call last)",
      "\u001b[1;32m<ipython-input-8-91102843e9be>\u001b[0m in \u001b[0;36m<module>\u001b[1;34m\u001b[0m\n\u001b[1;32m----> 1\u001b[1;33m \u001b[0mw3\u001b[0m\u001b[1;33m.\u001b[0m\u001b[0meth\u001b[0m\u001b[1;33m.\u001b[0m\u001b[0mgetBalance\u001b[0m\u001b[1;33m(\u001b[0m\u001b[1;34m\"\"\u001b[0m\u001b[1;33m)\u001b[0m\u001b[1;33m\u001b[0m\u001b[1;33m\u001b[0m\u001b[0m\n\u001b[0m",
      "\u001b[1;31mNameError\u001b[0m: name 'w3' is not defined"
     ]
    }
   ],
   "source": [
    "w3.eth.getBalance(\"\")"
   ]
  },
  {
   "cell_type": "code",
   "execution_count": null,
   "id": "89bcc661-97af-4553-b2fd-7c1fe869f364",
   "metadata": {},
   "outputs": [],
   "source": []
  }
 ],
 "metadata": {
  "kernelspec": {
   "display_name": "Python [conda env:pyvizenv2]",
   "language": "python",
   "name": "conda-env-pyvizenv2-py"
  },
  "language_info": {
   "codemirror_mode": {
    "name": "ipython",
    "version": 3
   },
   "file_extension": ".py",
   "mimetype": "text/x-python",
   "name": "python",
   "nbconvert_exporter": "python",
   "pygments_lexer": "ipython3",
   "version": "3.7.10"
  }
 },
 "nbformat": 4,
 "nbformat_minor": 5
}
